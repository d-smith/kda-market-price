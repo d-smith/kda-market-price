{
 "cells": [
  {
   "cell_type": "code",
   "execution_count": null,
   "id": "9524bb9d",
   "metadata": {},
   "outputs": [],
   "source": [
    "import boto3\n",
    "\n",
    "kda_client = boto3.client('kinesisanalytics')\n",
    "kinesis = boto3.client('kinesis')\n",
    "iam = boto3.client('iam')"
   ]
  },
  {
   "cell_type": "code",
   "execution_count": null,
   "id": "267f0580",
   "metadata": {},
   "outputs": [],
   "source": [
    "import datetime\n",
    "import json\n",
    "import random\n",
    "import boto3\n",
    "import uuid\n",
    "import time\n",
    "\n",
    "def get_data():\n",
    "    return {\n",
    "        'things': [{'a':1},{'b':2}],\n",
    "        'stuff':{'key':{'foo': True, 'bar': False}},\n",
    "        'EVENT_TIME': datetime.datetime.now().isoformat(),\n",
    "        'TICKER': random.choice(['AAPL', 'AMZN', 'MSFT', 'INTC', 'TBV']),\n",
    "        'PRICE': round(random.random() * 100, 2)}\n",
    "\n",
    "def get_cloud_event():\n",
    "    return {\n",
    "        \"specversion\" : \"1.0\",\n",
    "        \"type\" : \"tick\",\n",
    "        \"source\" : \"sample-stream\",\n",
    "        \"subject\" : \"delayed-data\",\n",
    "        \"id\" : str(uuid.uuid4()),\n",
    "        \"time\" : datetime.datetime.now().isoformat(),\n",
    "        \"datacontenttype\" : \"application/json\",\n",
    "        \"data\" : get_data()\n",
    "    }\n",
    "\n",
    "\n",
    "def generate(stream_name, kinesis_client):\n",
    "    while True:\n",
    "        data = get_cloud_event()\n",
    "        print(data)\n",
    "        kinesis_client.put_record(\n",
    "            StreamName=stream_name,\n",
    "            Data=json.dumps(data),\n",
    "            PartitionKey=\"partitionkey\")\n",
    "        time.sleep(1)\n",
    "        \n",
    "def generate_one(stream_name, kinesis_client):\n",
    "    data = get_cloud_event()\n",
    "    print(data)\n",
    "    kinesis_client.put_record(\n",
    "        StreamName=stream_name,\n",
    "        Data=json.dumps(data),\n",
    "        PartitionKey=\"partitionkey\")\n"
   ]
  },
  {
   "cell_type": "code",
   "execution_count": null,
   "id": "831e0a77",
   "metadata": {},
   "outputs": [],
   "source": [
    "# Run it\n",
    "generate(\"QuoteStream\", kinesis)"
   ]
  },
  {
   "cell_type": "code",
   "execution_count": null,
   "id": "b74f3824",
   "metadata": {},
   "outputs": [],
   "source": [
    "random.random() * 10000"
   ]
  },
  {
   "cell_type": "code",
   "execution_count": null,
   "id": "9669042c",
   "metadata": {},
   "outputs": [],
   "source": [
    "\"x{}\".format(round(random.random() * 10000))"
   ]
  },
  {
   "cell_type": "code",
   "execution_count": null,
   "id": "62e5cf61",
   "metadata": {},
   "outputs": [],
   "source": [
    "generate_one(\"QuoteStream\", kinesis)"
   ]
  },
  {
   "cell_type": "code",
   "execution_count": null,
   "id": "7d2d3d9e",
   "metadata": {},
   "outputs": [],
   "source": []
  }
 ],
 "metadata": {
  "kernelspec": {
   "display_name": "Python 3",
   "language": "python",
   "name": "python3"
  },
  "language_info": {
   "codemirror_mode": {
    "name": "ipython",
    "version": 3
   },
   "file_extension": ".py",
   "mimetype": "text/x-python",
   "name": "python",
   "nbconvert_exporter": "python",
   "pygments_lexer": "ipython3",
   "version": "3.9.1"
  }
 },
 "nbformat": 4,
 "nbformat_minor": 5
}
