{
 "cells": [
  {
   "cell_type": "code",
   "execution_count": null,
   "id": "819585c3",
   "metadata": {},
   "outputs": [],
   "source": [
    "import boto3\n",
    "\n",
    "kinesis = boto3.client('kinesis')\n",
    "iam = boto3.client('iam')"
   ]
  },
  {
   "cell_type": "code",
   "execution_count": null,
   "id": "1ab9d190",
   "metadata": {},
   "outputs": [],
   "source": [
    "import datetime\n",
    "import json\n",
    "import random\n",
    "import uuid\n",
    "import time\n",
    "\n",
    "class PositionWriter:\n",
    "    def __init__(self, stream_name, kinesis_client):\n",
    "        self.stream_name = stream_name\n",
    "        self.kinesis_client = kinesis_client\n",
    "        \n",
    "    def write_position(self, owner, symbol, amount):\n",
    "        data = {\n",
    "            \"owner\" : owner,\n",
    "            \"symbol\" : symbol,\n",
    "            \"amount\" : amount\n",
    "        }\n",
    "        \n",
    "        print(data)\n",
    "        \n",
    "        self.kinesis_client.put_record(\n",
    "            StreamName=self.stream_name,\n",
    "            Data=json.dumps(data),\n",
    "            PartitionKey=owner)\n",
    "        \n",
    "class QuoteWriter:\n",
    "    def __init__(self, stream_name, kinesis_client):\n",
    "        self.stream_name = stream_name\n",
    "        self.kinesis_client = kinesis_client\n",
    "        \n",
    "    def write_quote(self, symbol, price):\n",
    "        data = {\n",
    "            'TICKER': symbol,\n",
    "            'PRICE': price\n",
    "        }\n",
    "        \n",
    "        print(data)\n",
    "        \n",
    "        # not needed - used for compatibility with copy/paste stream schema\n",
    "        cloud_event = {\n",
    "            \"specversion\" : \"1.0\",\n",
    "            \"type\" : \"tick\",\n",
    "            \"source\" : \"sample-stream\",\n",
    "            \"subject\" : \"delayed-data\",\n",
    "            \"id\" : str(uuid.uuid4()),\n",
    "            \"time\" : datetime.datetime.now().isoformat(),\n",
    "            \"datacontenttype\" : \"application/json\",\n",
    "            \"data\" : data\n",
    "        }\n",
    "        \n",
    "        self.kinesis_client.put_record(\n",
    "            StreamName=self.stream_name,\n",
    "            Data=json.dumps(cloud_event),\n",
    "            PartitionKey=symbol # TODO - determine decent parition key given real quote data distribution\n",
    "        )\n",
    "        \n",
    "        "
   ]
  },
  {
   "cell_type": "code",
   "execution_count": null,
   "id": "f2d0d85b",
   "metadata": {},
   "outputs": [],
   "source": [
    "# Quote write uses 'AAPL', 'AMZN', 'MSFT', 'INTC', 'TBV' for symbols"
   ]
  },
  {
   "cell_type": "code",
   "execution_count": null,
   "id": "63e951bd",
   "metadata": {},
   "outputs": [],
   "source": [
    "positionWriter = PositionWriter(\"QuoteStream\", kinesis)"
   ]
  },
  {
   "cell_type": "code",
   "execution_count": null,
   "id": "6e23cc2a",
   "metadata": {},
   "outputs": [],
   "source": [
    "positionWriter.write_position(\"x001\",\"AMZN\", 10)"
   ]
  },
  {
   "cell_type": "code",
   "execution_count": null,
   "id": "b3129b46",
   "metadata": {},
   "outputs": [],
   "source": [
    "qw = QuoteWriter(\"QuoteStream\", kinesis)"
   ]
  },
  {
   "cell_type": "code",
   "execution_count": null,
   "id": "88412419",
   "metadata": {},
   "outputs": [],
   "source": [
    "qw.write_quote('AMZN', 10)"
   ]
  },
  {
   "cell_type": "code",
   "execution_count": null,
   "id": "08d81d18",
   "metadata": {},
   "outputs": [],
   "source": [
    "qw.write_quote('AMZN', 100)"
   ]
  },
  {
   "cell_type": "markdown",
   "id": "05074180",
   "metadata": {},
   "source": [
    "Stream reader output should contain...\n",
    "\n",
    "```\n",
    "b'{\"OWNER\":\"x001\",\"SYMBOL\":\"AMZN\",\"AMOUNT\":10.0,\"MKT_VALUE\":100.0}'\n",
    "b'{\"OWNER\":\"x001\",\"SYMBOL\":\"AMZN\",\"AMOUNT\":10.0,\"MKT_VALUE\":1000.0}'\n",
    "```"
   ]
  },
  {
   "cell_type": "code",
   "execution_count": null,
   "id": "06bd9b27",
   "metadata": {},
   "outputs": [],
   "source": [
    "# Add another position for x001, and a new position for x002\n",
    "positionWriter.write_position(\"x001\",\"MSFT\", 10)\n",
    "positionWriter.write_position(\"x002\",\"MSFT\", 20)"
   ]
  },
  {
   "cell_type": "code",
   "execution_count": null,
   "id": "a0ee4e06",
   "metadata": {},
   "outputs": [],
   "source": [
    "qw.write_quote('MSFT', 10)"
   ]
  },
  {
   "cell_type": "markdown",
   "id": "eb69e5e8",
   "metadata": {},
   "source": [
    "Output adds...\n",
    "\n",
    "```\n",
    "b'{\"OWNER\":\"x001\",\"SYMBOL\":\"MSFT\",\"AMOUNT\":10.0,\"MKT_VALUE\":100.0}'\n",
    "b'{\"OWNER\":\"x002\",\"SYMBOL\":\"MSFT\",\"AMOUNT\":20.0,\"MKT_VALUE\":200.0}'\n",
    "```"
   ]
  },
  {
   "cell_type": "code",
   "execution_count": null,
   "id": "1e12ba67",
   "metadata": {},
   "outputs": [],
   "source": [
    "# What happens if we change a position? Is it an update or just an add of another value?\n",
    "positionWriter.write_position(\"x001\",\"AMZN\", 100)\n",
    "qw.write_quote('AMZN', 100)"
   ]
  },
  {
   "cell_type": "markdown",
   "id": "1c754122",
   "metadata": {},
   "source": [
    "We observe...\n",
    "\n",
    "```\n",
    "b'{\"OWNER\":\"x001\",\"SYMBOL\":\"AMZN\",\"AMOUNT\":10.0,\"MKT_VALUE\":1000.0}'\n",
    "b'{\"OWNER\":\"x001\",\"SYMBOL\":\"AMZN\",\"AMOUNT\":100.0,\"MKT_VALUE\":10000.0}'\n",
    "```\n",
    "\n",
    "How can we treat position writes as upserts?"
   ]
  },
  {
   "cell_type": "code",
   "execution_count": null,
   "id": "0a99eb42",
   "metadata": {},
   "outputs": [],
   "source": []
  }
 ],
 "metadata": {
  "kernelspec": {
   "display_name": "Python 3",
   "language": "python",
   "name": "python3"
  },
  "language_info": {
   "codemirror_mode": {
    "name": "ipython",
    "version": 3
   },
   "file_extension": ".py",
   "mimetype": "text/x-python",
   "name": "python",
   "nbconvert_exporter": "python",
   "pygments_lexer": "ipython3",
   "version": "3.9.1"
  }
 },
 "nbformat": 4,
 "nbformat_minor": 5
}
