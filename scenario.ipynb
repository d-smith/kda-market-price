{
 "cells": [
  {
   "cell_type": "code",
   "execution_count": null,
   "id": "819585c3",
   "metadata": {},
   "outputs": [],
   "source": [
    "import boto3\n",
    "\n",
    "kinesis = boto3.client('kinesis')\n",
    "iam = boto3.client('iam')"
   ]
  },
  {
   "cell_type": "code",
   "execution_count": null,
   "id": "1ab9d190",
   "metadata": {},
   "outputs": [],
   "source": [
    "import datetime\n",
    "import json\n",
    "import random\n",
    "import uuid\n",
    "import time\n",
    "\n",
    "class PositionWriter:\n",
    "    def __init__(self, stream_name, kinesis_client):\n",
    "        self.stream_name = stream_name\n",
    "        self.kinesis_client = kinesis_client\n",
    "        \n",
    "    def write_position(self, owner, symbol, amount):\n",
    "        data = {\n",
    "            \"owner\" : owner,\n",
    "            \"symbol\" : symbol,\n",
    "            \"amount\" : amount\n",
    "        }\n",
    "        \n",
    "        print(data)\n",
    "        \n",
    "        self.kinesis_client.put_record(\n",
    "            StreamName=self.stream_name,\n",
    "            Data=json.dumps(data),\n",
    "            PartitionKey=owner)\n",
    "        \n",
    "class QuoteWriter:\n",
    "    def __init__(self, stream_name, kinesis_client):\n",
    "        self.stream_name = stream_name\n",
    "        self.kinesis_client = kinesis_client\n",
    "        \n",
    "    def write_quote(self, symbol, price):\n",
    "        data = {\n",
    "            'TICKER': symbol,\n",
    "            'PRICE': price\n",
    "        }\n",
    "        \n",
    "        print(data)\n",
    "        \n",
    "        # not needed - used for compatibility with copy/paste stream schema\n",
    "        cloud_event = {\n",
    "            \"specversion\" : \"1.0\",\n",
    "            \"type\" : \"tick\",\n",
    "            \"source\" : \"sample-stream\",\n",
    "            \"subject\" : \"delayed-data\",\n",
    "            \"id\" : str(uuid.uuid4()),\n",
    "            \"time\" : datetime.datetime.now().isoformat(),\n",
    "            \"datacontenttype\" : \"application/json\",\n",
    "            \"data\" : data\n",
    "        }\n",
    "        \n",
    "        self.kinesis_client.put_record(\n",
    "            StreamName=self.stream_name,\n",
    "            Data=json.dumps(cloud_event),\n",
    "            PartitionKey=symbol # TODO - determine decent parition key given real quote data distribution\n",
    "        )\n",
    "        \n",
    "        "
   ]
  },
  {
   "cell_type": "code",
   "execution_count": null,
   "id": "f2d0d85b",
   "metadata": {},
   "outputs": [],
   "source": [
    "# Quote write uses 'AAPL', 'AMZN', 'MSFT', 'INTC', 'TBV' for symbols"
   ]
  },
  {
   "cell_type": "code",
   "execution_count": null,
   "id": "63e951bd",
   "metadata": {},
   "outputs": [],
   "source": [
    "positionWriter = PositionWriter(\"QuoteStream\", kinesis)"
   ]
  },
  {
   "cell_type": "code",
   "execution_count": null,
   "id": "6e23cc2a",
   "metadata": {},
   "outputs": [],
   "source": [
    "positionWriter.write_position(\"x001\",\"AMZN\", 10)"
   ]
  },
  {
   "cell_type": "code",
   "execution_count": null,
   "id": "b3129b46",
   "metadata": {},
   "outputs": [],
   "source": [
    "qw = QuoteWriter(\"QuoteStream\", kinesis)"
   ]
  },
  {
   "cell_type": "code",
   "execution_count": null,
   "id": "88412419",
   "metadata": {},
   "outputs": [],
   "source": [
    "qw.write_quote('AMZN', 10)"
   ]
  },
  {
   "cell_type": "code",
   "execution_count": null,
   "id": "08d81d18",
   "metadata": {},
   "outputs": [],
   "source": [
    "qw.write_quote('AMZN', 100)"
   ]
  },
  {
   "cell_type": "markdown",
   "id": "05074180",
   "metadata": {},
   "source": [
    "Stream reader output should contain...\n",
    "\n",
    "```\n",
    "b'{\"OWNER\":\"x001\",\"SYMBOL\":\"AMZN\",\"AMOUNT\":10.0,\"MKT_VALUE\":100.0}'\n",
    "b'{\"OWNER\":\"x001\",\"SYMBOL\":\"AMZN\",\"AMOUNT\":10.0,\"MKT_VALUE\":1000.0}'\n",
    "```"
   ]
  },
  {
   "cell_type": "code",
   "execution_count": null,
   "id": "06bd9b27",
   "metadata": {},
   "outputs": [],
   "source": [
    "# Add another position for x001, and a new position for x002\n",
    "positionWriter.write_position(\"x001\",\"MSFT\", 10)\n",
    "positionWriter.write_position(\"x002\",\"MSFT\", 20)"
   ]
  },
  {
   "cell_type": "code",
   "execution_count": null,
   "id": "a0ee4e06",
   "metadata": {},
   "outputs": [],
   "source": [
    "qw.write_quote('MSFT', 10)"
   ]
  },
  {
   "cell_type": "markdown",
   "id": "eb69e5e8",
   "metadata": {},
   "source": [
    "Output adds...\n",
    "\n",
    "```\n",
    "b'{\"OWNER\":\"x001\",\"SYMBOL\":\"MSFT\",\"AMOUNT\":10.0,\"MKT_VALUE\":100.0}'\n",
    "b'{\"OWNER\":\"x002\",\"SYMBOL\":\"MSFT\",\"AMOUNT\":20.0,\"MKT_VALUE\":200.0}'\n",
    "```"
   ]
  },
  {
   "cell_type": "code",
   "execution_count": null,
   "id": "1e12ba67",
   "metadata": {},
   "outputs": [],
   "source": [
    "# What happens if we change a position? Is it an update or just an add of another value?\n",
    "positionWriter.write_position(\"x001\",\"AMZN\", 100)"
   ]
  },
  {
   "cell_type": "code",
   "execution_count": null,
   "id": "f5dc119f",
   "metadata": {},
   "outputs": [],
   "source": [
    "qw.write_quote('AMZN', 50)"
   ]
  },
  {
   "cell_type": "markdown",
   "id": "1c754122",
   "metadata": {},
   "source": [
    "We observe...\n",
    "\n",
    "```\n",
    "b'{\"OWNER\":\"x001\",\"SYMBOL\":\"AMZN\",\"AMOUNT\":10.0,\"MKT_VALUE\":1000.0}'\n",
    "b'{\"OWNER\":\"x001\",\"SYMBOL\":\"AMZN\",\"AMOUNT\":100.0,\"MKT_VALUE\":10000.0}'\n",
    "```\n",
    "\n",
    "How can we treat position writes as upserts?\n",
    "\n",
    "Trying to write the latest positions to a stream doesn't work, as anything adding in the time window accumulates as a new position, e.g. this won't do it.\n",
    "\n",
    "```\n",
    "CREATE OR REPLACE STREAM \"POSITIONS_SQL_STREAM\" (OWNER VARCHAR(12), SYMBOL VARCHAR(4), AMOUNT REAL);\n",
    "CREATE OR REPLACE PUMP \"STREAM_PUMP\" AS INSERT INTO \"POSITIONS_SQL_STREAM\"\n",
    "SELECT STREAM OWNER, SYMBOL, AMOUNT\n",
    "FROM \"SOURCE_SQL_STREAM_001\"\n",
    "WHERE OWNER IS NOT NULL;\n",
    "\n",
    "\n",
    "CREATE OR REPLACE STREAM \"LATEST_POSITIONS_STREAM\" (OWNER VARCHAR(12), SYMBOL VARCHAR(4), AMOUNT REAL);\n",
    "CREATE OR REPLACE PUMP \"LATEST_POSITIONS_STREAM_PUMP\" AS INSERT INTO \"LATEST_POSITIONS_STREAM\"\n",
    "SELECT p1.OWNER, p1.SYMBOL, p1.AMOUNT from POSITIONS_SQL_STREAM AS p1 \n",
    "    JOIN POSITIONS_SQL_STREAM AS p2\n",
    "    ON (p1.OWNER = p2.OWNER AND p1.ROWTIME >= p2.ROWTIME); \n",
    "\n",
    "CREATE OR REPLACE STREAM \"QUOTES_SQL_STREAM\" (\n",
    "    TICKER VARCHAR(4), \n",
    "    PRICE     DOUBLE);\n",
    "CREATE OR REPLACE PUMP \"STREAM_PUMP2\" AS \n",
    "  INSERT INTO \"QUOTES_SQL_STREAM\" \n",
    "    SELECT STREAM \n",
    "        TICKER,\n",
    "        PRICE\n",
    "    FROM \"SOURCE_SQL_STREAM_001\"\n",
    "    WHERE OWNER IS NULL;\n",
    "     \n",
    "CREATE OR REPLACE STREAM \"DESTINATION_SQL_STREAM\" (OWNER VARCHAR(12), SYMBOL VARCHAR(4), AMOUNT REAL, MKT_VALUE REAL);\n",
    "CREATE OR REPLACE PUMP \"OUTPUT_STREAM_PUMP\" AS \n",
    "INSERT INTO \"DESTINATION_SQL_STREAM\"\n",
    "  SELECT STREAM p.OWNER, p.SYMBOL, p.AMOUNT, q.PRICE * p.AMOUNT\n",
    "    FROM LATEST_POSITIONS_STREAM OVER (RANGE INTERVAL '10' MINUTE PRECEDING) AS p\n",
    "      JOIN QUOTES_SQL_STREAM AS q\n",
    "        ON p.SYMBOL = q.TICKER;\n",
    "```"
   ]
  },
  {
   "cell_type": "markdown",
   "id": "ff995a8d",
   "metadata": {},
   "source": [
    "### Use Lastest Position\n",
    "\n",
    "We can alter the SQL to pick up just the last position\n",
    "\n",
    "```\n",
    "CREATE OR REPLACE STREAM \"POSITIONS_SQL_STREAM\" (OWNER VARCHAR(12), SYMBOL VARCHAR(4), AMOUNT REAL);\n",
    "CREATE OR REPLACE PUMP \"STREAM_PUMP\" AS INSERT INTO \"POSITIONS_SQL_STREAM\"\n",
    "SELECT STREAM OWNER, SYMBOL, AMOUNT\n",
    "FROM \"SOURCE_SQL_STREAM_001\"\n",
    "WHERE OWNER IS NOT NULL;\n",
    "\n",
    "CREATE OR REPLACE STREAM \"QUOTES_SQL_STREAM\" (\n",
    "    TICKER VARCHAR(4), \n",
    "    PRICE     DOUBLE);\n",
    "CREATE OR REPLACE PUMP \"STREAM_PUMP2\" AS \n",
    "  INSERT INTO \"QUOTES_SQL_STREAM\" \n",
    "    SELECT STREAM \n",
    "        TICKER,\n",
    "        PRICE\n",
    "    FROM \"SOURCE_SQL_STREAM_001\"\n",
    "    WHERE OWNER IS NULL;\n",
    "     \n",
    "CREATE OR REPLACE STREAM \"DESTINATION_SQL_STREAM\" (OWNER VARCHAR(12), SYMBOL VARCHAR(4), AMOUNT REAL, MKT_VALUE REAL);\n",
    "CREATE OR REPLACE PUMP \"OUTPUT_STREAM_PUMP\" AS \n",
    "INSERT INTO \"DESTINATION_SQL_STREAM\"\n",
    "  SELECT STREAM p.OWNER, p.SYMBOL, p.AMOUNT, q.PRICE * p.AMOUNT\n",
    "    FROM POSITIONS_SQL_STREAM OVER (RANGE INTERVAL '10' MINUTE PRECEDING) AS p\n",
    "    JOIN POSITIONS_SQL_STREAM AS p2\n",
    "    ON (p.OWNER = p2.OWNER AND p.ROWTIME >= p2.ROWTIME)\n",
    "      JOIN QUOTES_SQL_STREAM AS q\n",
    "        ON p.SYMBOL = q.TICKER;\n",
    "```"
   ]
  },
  {
   "cell_type": "markdown",
   "id": "a75b87ec",
   "metadata": {},
   "source": [
    "Now, restart the application."
   ]
  },
  {
   "cell_type": "code",
   "execution_count": null,
   "id": "57412d4b",
   "metadata": {},
   "outputs": [],
   "source": [
    "positionWriter.write_position(\"x001\",\"AMZN\", 10)"
   ]
  },
  {
   "cell_type": "code",
   "execution_count": null,
   "id": "5c416209",
   "metadata": {},
   "outputs": [],
   "source": [
    "qw.write_quote('AMZN', 10)"
   ]
  },
  {
   "cell_type": "code",
   "execution_count": null,
   "id": "bdb01c62",
   "metadata": {},
   "outputs": [],
   "source": [
    "qw.write_quote('AMZN', 100)"
   ]
  },
  {
   "cell_type": "markdown",
   "id": "b549db32",
   "metadata": {},
   "source": [
    "Running the three above we only see the output for the first quote... what if we include the range in both parts of the positions join?\n",
    "\n",
    "```\n",
    "SELECT STREAM p.OWNER, p.SYMBOL, p.AMOUNT, q.PRICE * p.AMOUNT\n",
    "    FROM POSITIONS_SQL_STREAM OVER (RANGE INTERVAL '10' MINUTE PRECEDING) AS p\n",
    "    JOIN POSITIONS_SQL_STREAM OVER (RANGE INTERVAL '10' MINUTE PRECEDING)AS p2\n",
    "```\n",
    "\n",
    "Now the second quote is picked up. Next, we alter the position."
   ]
  },
  {
   "cell_type": "code",
   "execution_count": null,
   "id": "b91c59d2",
   "metadata": {},
   "outputs": [],
   "source": [
    "positionWriter.write_position(\"x001\",\"AMZN\", 100)"
   ]
  },
  {
   "cell_type": "code",
   "execution_count": null,
   "id": "5288d864",
   "metadata": {},
   "outputs": [],
   "source": [
    "qw.write_quote('AMZN', 100)"
   ]
  },
  {
   "cell_type": "code",
   "execution_count": null,
   "id": "96b92cec",
   "metadata": {},
   "outputs": [],
   "source": [
    "positionWriter.write_position(\"x001\",\"AMZN\", 50)"
   ]
  },
  {
   "cell_type": "markdown",
   "id": "e4e65688",
   "metadata": {},
   "source": [
    "Now the latest position is picked up, but multiple times... "
   ]
  },
  {
   "cell_type": "code",
   "execution_count": null,
   "id": "5bc4f6ee",
   "metadata": {},
   "outputs": [],
   "source": []
  }
 ],
 "metadata": {
  "kernelspec": {
   "display_name": "Python 3",
   "language": "python",
   "name": "python3"
  },
  "language_info": {
   "codemirror_mode": {
    "name": "ipython",
    "version": 3
   },
   "file_extension": ".py",
   "mimetype": "text/x-python",
   "name": "python",
   "nbconvert_exporter": "python",
   "pygments_lexer": "ipython3",
   "version": "3.9.1"
  }
 },
 "nbformat": 4,
 "nbformat_minor": 5
}
