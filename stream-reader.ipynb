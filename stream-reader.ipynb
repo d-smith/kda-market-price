{
 "cells": [
  {
   "cell_type": "code",
   "execution_count": null,
   "id": "9d5975fb",
   "metadata": {},
   "outputs": [],
   "source": [
    "import boto3\n",
    "\n",
    "sink_session = boto3.Session(profile_name='pa')\n",
    "\n",
    "sink_kda_client = sink_session.client('kinesisanalyticsv2')\n",
    "sink_kinesis = sink_session.client('kinesis')\n",
    "sink_iam = sink_session.client('iam')\n",
    "sink_kda2 = sink_session.client('kinesisanalyticsv2')"
   ]
  },
  {
   "cell_type": "code",
   "execution_count": null,
   "id": "143b3f3e",
   "metadata": {},
   "outputs": [],
   "source": [
    "import time\n",
    "\n",
    "def read_stream(kinesis,stream_name):\n",
    "    shards = kinesis.list_shards(\n",
    "        StreamName=stream_name\n",
    "    )\n",
    "    \n",
    "    itor = kinesis.get_shard_iterator(\n",
    "        StreamName='ExampleOutputStream',\n",
    "        ShardIteratorType='LATEST',\n",
    "        ShardId=shards['Shards'][0]['ShardId']\n",
    "    )\n",
    "    \n",
    "    shardIterator = ShardIterator=itor['ShardIterator']\n",
    "    \n",
    "    while True:\n",
    "        recs = kinesis.get_records(\n",
    "            ShardIterator=shardIterator\n",
    "        )\n",
    "        \n",
    "        if(len(recs['Records']) == 0):\n",
    "            print('no_records...')\n",
    "            time.sleep(1)\n",
    "\n",
    "        for rec in recs['Records']:\n",
    "            print(rec['Data'])\n",
    "        shardItor = recs['NextShardIterator']"
   ]
  },
  {
   "cell_type": "code",
   "execution_count": null,
   "id": "8b200e06",
   "metadata": {},
   "outputs": [],
   "source": [
    "read_stream(sink_kinesis, \"ExampleOutputStream\")"
   ]
  },
  {
   "cell_type": "code",
   "execution_count": null,
   "id": "09c45da0",
   "metadata": {},
   "outputs": [],
   "source": []
  }
 ],
 "metadata": {
  "kernelspec": {
   "display_name": "Python 3",
   "language": "python",
   "name": "python3"
  },
  "language_info": {
   "codemirror_mode": {
    "name": "ipython",
    "version": 3
   },
   "file_extension": ".py",
   "mimetype": "text/x-python",
   "name": "python",
   "nbconvert_exporter": "python",
   "pygments_lexer": "ipython3",
   "version": "3.9.1"
  }
 },
 "nbformat": 4,
 "nbformat_minor": 5
}
