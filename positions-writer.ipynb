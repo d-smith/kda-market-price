{
 "cells": [
  {
   "cell_type": "code",
   "execution_count": null,
   "id": "f6f070d5",
   "metadata": {},
   "outputs": [],
   "source": [
    "import boto3\n",
    "\n",
    "kda_client = boto3.client('kinesisanalytics')\n",
    "kinesis = boto3.client('kinesis')\n",
    "iam = boto3.client('iam')"
   ]
  },
  {
   "cell_type": "code",
   "execution_count": null,
   "id": "52d505e6",
   "metadata": {},
   "outputs": [],
   "source": [
    "import datetime\n",
    "import json\n",
    "import random\n",
    "import boto3\n",
    "import uuid\n",
    "import time\n",
    "\n",
    "\n",
    "\n",
    "def get_position():\n",
    "    return {\n",
    "        \"owner\" : \"x{}\".format(round(random.random() * 10000)),\n",
    "        \"symbol\" : random.choice(['AAPL', 'AMZN', 'MSFT', 'INTC', 'TBV']),\n",
    "        \"amount\" : round(random.random() * 100)\n",
    "    }\n",
    "\n",
    "\n",
    "def generate(stream_name, kinesis_client):\n",
    "    while True:\n",
    "        data = get_position()\n",
    "        print(data)\n",
    "        kinesis_client.put_record(\n",
    "            StreamName=stream_name,\n",
    "            Data=json.dumps(data),\n",
    "            PartitionKey=\"partitionkey\")\n",
    "        time.sleep(10)\n",
    "        \n",
    "def generate_one(stream_name, kinesis_client):\n",
    "    data = get_position()\n",
    "    print(data)\n",
    "    kinesis_client.put_record(\n",
    "        StreamName=stream_name,\n",
    "        Data=json.dumps(data),\n",
    "        PartitionKey=\"partitionkey\")\n"
   ]
  },
  {
   "cell_type": "code",
   "execution_count": null,
   "id": "7d6b57f4",
   "metadata": {},
   "outputs": [],
   "source": [
    "# Run it - note this pushes to QuoteStream as KDA-SQL supports only a single Kinesis input stream\n",
    "generate(\"QuoteStream\", kinesis)"
   ]
  },
  {
   "cell_type": "code",
   "execution_count": null,
   "id": "c0fbeac4",
   "metadata": {},
   "outputs": [],
   "source": [
    "get_position()"
   ]
  },
  {
   "cell_type": "code",
   "execution_count": null,
   "id": "278079ef",
   "metadata": {},
   "outputs": [],
   "source": [
    "generate_one(\"QuoteStream\", kinesis)"
   ]
  },
  {
   "cell_type": "code",
   "execution_count": null,
   "id": "4f819d1d",
   "metadata": {},
   "outputs": [],
   "source": []
  }
 ],
 "metadata": {
  "kernelspec": {
   "display_name": "Python 3",
   "language": "python",
   "name": "python3"
  },
  "language_info": {
   "codemirror_mode": {
    "name": "ipython",
    "version": 3
   },
   "file_extension": ".py",
   "mimetype": "text/x-python",
   "name": "python",
   "nbconvert_exporter": "python",
   "pygments_lexer": "ipython3",
   "version": "3.9.1"
  }
 },
 "nbformat": 4,
 "nbformat_minor": 5
}
